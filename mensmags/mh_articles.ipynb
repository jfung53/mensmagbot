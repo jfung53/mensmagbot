{
 "cells": [
  {
   "cell_type": "code",
   "execution_count": 2,
   "id": "ff367576",
   "metadata": {},
   "outputs": [],
   "source": [
    "import scrapy\n",
    "from scrapy.selector import Selector\n",
    "import requests"
   ]
  },
  {
   "cell_type": "code",
   "execution_count": 3,
   "id": "d172bfae",
   "metadata": {},
   "outputs": [
    {
     "data": {
      "text/plain": [
       "<Response [200]>"
      ]
     },
     "execution_count": 3,
     "metadata": {},
     "output_type": "execute_result"
    }
   ],
   "source": [
    "url = 'https://www.menshealth.com/health/'\n",
    "response = requests.get(url)\n",
    "sel = Selector(text=response.text)\n",
    "response"
   ]
  },
  {
   "cell_type": "code",
   "execution_count": 4,
   "id": "b22a3ad5",
   "metadata": {},
   "outputs": [
    {
     "data": {
      "text/plain": [
       "\"Health News and Advice for Healthy Living - Men's Health\""
      ]
     },
     "execution_count": 4,
     "metadata": {},
     "output_type": "execute_result"
    }
   ],
   "source": [
    "# testing the title\n",
    "sel.css('title::text').get()"
   ]
  },
  {
   "cell_type": "code",
   "execution_count": null,
   "id": "a688fbab",
   "metadata": {},
   "outputs": [
    {
     "data": {
      "text/plain": [
       "[]"
      ]
     },
     "execution_count": 27,
     "metadata": {},
     "output_type": "execute_result"
    }
   ],
   "source": [
    "# article titles from main page\n",
    "# NOT WORKING\n",
    "sel.css('span.e10ip9lg9 span::text').getall()\n",
    "# css-1vnf2q2 e10ip9lg9"
   ]
  },
  {
   "cell_type": "code",
   "execution_count": null,
   "id": "226956b4",
   "metadata": {},
   "outputs": [],
   "source": [
    "# article links\n",
    "sel.css(\"div.SummaryItemAssetContainer-gwhFFH a::attr('href')\").getall()"
   ]
  },
  {
   "cell_type": "code",
   "execution_count": null,
   "id": "b58ca064",
   "metadata": {},
   "outputs": [],
   "source": [
    "# next page link\n",
    "next_page = sel.css(\"div.fMoTog a::attr('href')\").get()\n",
    "next_page"
   ]
  },
  {
   "cell_type": "code",
   "execution_count": null,
   "id": "73c9e9d9",
   "metadata": {},
   "outputs": [],
   "source": [
    "# testing individual articles\n",
    "a_url = 'https://www.gq.com/story/three-signs-your-acne-is-really-a-serious-skin-condition'\n",
    "a_response = requests.get(a_url)\n",
    "a_sel = Selector(text=a_response.text)\n",
    "a_response"
   ]
  },
  {
   "cell_type": "code",
   "execution_count": null,
   "id": "d300cdf1",
   "metadata": {},
   "outputs": [],
   "source": [
    "# article title\n",
    "a_sel.css('h1::text').get()"
   ]
  },
  {
   "cell_type": "code",
   "execution_count": null,
   "id": "e99d9113",
   "metadata": {},
   "outputs": [],
   "source": [
    "# article topic\n",
    "a_sel.css('a.RubricLink-gRWSOU span::text').get()"
   ]
  },
  {
   "cell_type": "code",
   "execution_count": null,
   "id": "469507e0",
   "metadata": {},
   "outputs": [],
   "source": [
    "# author name\n",
    "a_sel.css('span.BylineName-kwmrLn a::text').get()"
   ]
  },
  {
   "cell_type": "code",
   "execution_count": null,
   "id": "2da06119",
   "metadata": {},
   "outputs": [],
   "source": [
    "# date published\n",
    "a_sel.css('time::text').get()"
   ]
  },
  {
   "cell_type": "code",
   "execution_count": null,
   "id": "f9e39eee",
   "metadata": {},
   "outputs": [],
   "source": [
    "# article text\n",
    "bodytext = a_sel.css('article.article p::text').getall()\n",
    "h2text = a_sel.css('article.article strong::text').getall()\n",
    "h2text, bodytext"
   ]
  },
  {
   "cell_type": "code",
   "execution_count": null,
   "id": "39efeb4e",
   "metadata": {},
   "outputs": [],
   "source": []
  }
 ],
 "metadata": {
  "kernelspec": {
   "display_name": "base",
   "language": "python",
   "name": "python3"
  },
  "language_info": {
   "codemirror_mode": {
    "name": "ipython",
    "version": 3
   },
   "file_extension": ".py",
   "mimetype": "text/x-python",
   "name": "python",
   "nbconvert_exporter": "python",
   "pygments_lexer": "ipython3",
   "version": "3.13.5"
  }
 },
 "nbformat": 4,
 "nbformat_minor": 5
}
