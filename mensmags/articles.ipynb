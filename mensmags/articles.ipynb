{
 "cells": [
  {
   "cell_type": "code",
   "execution_count": 1,
   "id": "ff367576",
   "metadata": {},
   "outputs": [],
   "source": [
    "import scrapy\n",
    "from scrapy.selector import Selector\n",
    "import requests"
   ]
  },
  {
   "cell_type": "code",
   "execution_count": 147,
   "id": "d172bfae",
   "metadata": {},
   "outputs": [
    {
     "data": {
      "text/plain": [
       "<Response [200]>"
      ]
     },
     "execution_count": 147,
     "metadata": {},
     "output_type": "execute_result"
    }
   ],
   "source": [
    "# url = 'https://www.gq.com/wellness'\n",
    "url = 'https://www.gq.com/style'\n",
    "response = requests.get(url)\n",
    "sel = Selector(text=response.text)\n",
    "response"
   ]
  },
  {
   "cell_type": "code",
   "execution_count": null,
   "id": "b22a3ad5",
   "metadata": {},
   "outputs": [
    {
     "data": {
      "text/plain": [
       "\"Men's Style & Fashion – News, Tips, Trends & Celebrity Style | GQ\""
      ]
     },
     "execution_count": 48,
     "metadata": {},
     "output_type": "execute_result"
    }
   ],
   "source": [
    "# testing the title\n",
    "sel.css('title::text').get()"
   ]
  },
  {
   "cell_type": "code",
   "execution_count": null,
   "id": "a688fbab",
   "metadata": {},
   "outputs": [
    {
     "data": {
      "text/plain": [
       "['Why Willy Chavarria’s Latest Fashion Show Invoked ICE: ‘We’re in a Time of Erasure’',\n",
       " 'How Exposing Your Feet Became the Hottest Trend in Menswear',\n",
       " '‘The Idea of Style’: Jonathan Anderson Delivers in His Dior Debut',\n",
       " 'The Secret to Looking Hot in 2025? Dress Like It’s 2005',\n",
       " 'Jacques Marie Mage: The Sunglasses That Are Changing the Face of Pop Culture',\n",
       " '3 Ways to Reach Summer Style Nirvana',\n",
       " '4 Ways to Suit Up Right in 2025',\n",
       " 'We Persuaded a Skeptical Denimhead to ID the Best Jeans on Amazon',\n",
       " 'The Best Slip-On Shoes Render Laces Obsolete',\n",
       " 'The Best Protein Powder for Building Muscle in 2025',\n",
       " 'Patagonia’s Summer Sale Is an Oasis of Good Deals During a Heat Wave',\n",
       " '43 Rolex Nicknames Every Collector Should Know, From ‘Pepsi’ to ‘Pikachu’',\n",
       " 'Tudor’s Sporty New Chronograph Is a Tour de France Jersey for Your Wrist',\n",
       " \"George Clooney Is Exploring the Freakier Side of Omega's Archives\",\n",
       " 'The Best Watches at the 2025 NBA Draft, From Cooper Flagg’s Blinged-Out Hublot to VJ Edgecombe’s Classic Rolex',\n",
       " 'How Vowels Leveled Up Its Tokyo-Meets-NYC Streetwear in Paris',\n",
       " 'How to Actually Look Cool in a Tank Top This Summer',\n",
       " 'Rick Owens Talks Launching an OnlyFans, Runway Dicks, and 30 Years of ‘Cheerful Depravity’',\n",
       " '58 Ways to Get Dressed Up, Even When It’s Boiling Hot Outside',\n",
       " 'The 12 Best Watches Under $1,000',\n",
       " 'Daniel Craig and Robert Pattinson Dressed Like They’re on a Workplace Sitcom We’d Love to See',\n",
       " 'Step Inside GQ’s Sizzling Paris Fashion Week Bash',\n",
       " 'Yup, Nike Is Finally Entering the Sneaker Loafer Chat',\n",
       " 'This Is How Your Shorts Should Fit, According to the Most Stylish Men in Paris',\n",
       " 'Nike’s Buzziest Air Max 95 of 2025 Lands This Week',\n",
       " 'The Most Stylish Man at Paris Fashion Week? Pharrell’s Bodyguard',\n",
       " 'Bradley Cooper Just Honored the Golden Rule of Sneaker Collecting',\n",
       " 'New Balance’s Smash-Hit Grandpa Sneaker Just Got an Outdoorsy Makeover',\n",
       " 'The 36 Biggest (And Most Impractical) Celebrity Fits From Day 1 of Paris Men’s Fashion Week',\n",
       " 'Pharrell’s Latest Louis Vuitton Show Was a Wes Anderson-ian Ode to India',\n",
       " 'Flip-Flops Have Officially Hit the Paris Fashion Week Runways',\n",
       " 'Saint Laurent’s Anthony Vaccarrello Is Over Those Thigh-High Leather Boots',\n",
       " 'The 20 Greatest Adidas Samba Colorways of All Time, Ranked',\n",
       " 'Why JFK Jr.’s Style Still Matters',\n",
       " 'Shai Gilgeous-Alexander’s 2025 NBA Championship Run Fits, Definitively Ranked',\n",
       " 'A Vintage Workwear Expert Breaks Down His 8 Greatest Finds',\n",
       " 'How Zohran Mamdani Used Free Merch to Power His Mayoral Campaign',\n",
       " 'Why Prada Went Pantsless for Its Latest Menswear Collection',\n",
       " 'Our Legacy Was Almost Called ‘Archangel’',\n",
       " 'The Coolest Guy at Milan Fashion Week Wants to Make You a Suit',\n",
       " 'Bradley Cooper and Jeremy Strong Are Vacationing (And Wearing Linen) Together',\n",
       " 'My Journey to Buy a Back-Alley Labubu',\n",
       " 'The Best Dress Socks Send Your Feet Pics Into the Stratosphere',\n",
       " 'Jonathan Bailey Cosplayed as ’90s-Era Spielberg for the ',\n",
       " ' Premiere',\n",
       " 'Marni and Francesco Risso Are Parting Ways']"
      ]
     },
     "execution_count": 49,
     "metadata": {},
     "output_type": "execute_result"
    }
   ],
   "source": [
    "# article titles from search results page\n",
    "sel.css('h3::text').getall()"
   ]
  },
  {
   "cell_type": "code",
   "execution_count": null,
   "id": "226956b4",
   "metadata": {},
   "outputs": [
    {
     "data": {
      "text/plain": [
       "['/story/willy-chavarria-ss26-paris-fashion-week-show',\n",
       " '/story/show-notes-sandals-trend-paris-fashion-week-ss26',\n",
       " '/story/dior-jonathan-anderson-debut-ss26',\n",
       " 'https://www.gq.com/story/exercises-for-longevity-1#intcid=_gq-verso-hp-trending_d48e7f95-693b-4e3c-a88e-a7d459f205b6_popular4-2',\n",
       " 'https://www.gq.com/story/high-protein-meals-easy#intcid=_gq-verso-hp-trending_d48e7f95-693b-4e3c-a88e-a7d459f205b6_popular4-2',\n",
       " 'https://www.gq.com/story/brad-pitt-f1-movie-iwc-watch-box-papers-6-27-25#intcid=_gq-verso-hp-trending_d48e7f95-693b-4e3c-a88e-a7d459f205b6_popular4-2',\n",
       " '/story/the-secret-to-looking-hot-in-2025-dress-like-its-2005',\n",
       " '/story/jacques-marie-mage-the-sunglasses-that-are-changing-the-face-of-pop-culture',\n",
       " '/story/3-ways-to-reach-summer-style-nirvana',\n",
       " '/story/4-ways-to-suit-up-right-in-2025',\n",
       " '/story/best-jeans-on-amazon-for-men',\n",
       " '/story/slip-on-shoes-for-men',\n",
       " '/story/best-protein-powder-muscle-gain',\n",
       " '/gallery/patagonia-sale-2025',\n",
       " '/story/rolex-nicknames-guide',\n",
       " '/story/tudor-pelagos-fxd-chronos-yellow',\n",
       " '/story/watches-of-the-week-6-28-25',\n",
       " '/story/nba-draft-2025-best-watches',\n",
       " '/story/vowels-paris-ss26-yuki-yagi-interview',\n",
       " '/gallery/how-to-wear-a-tank-top-paris-fashion-week-ss26',\n",
       " '/story/rick-owens-retrospective-interview-2025',\n",
       " '/gallery/paris-fashion-week-ss26-street-style-tailoring',\n",
       " '/story/best-watches-under-1000',\n",
       " '/story/daniel-craig-robert-pattinson-dior-men-ss26',\n",
       " '/gallery/gq-paris-fashion-week-party-ss26-photos',\n",
       " '/story/nike-sneaker-loafer-air-max-phenomena',\n",
       " '/gallery/paris-fashion-week-ss26-street-style-shorts',\n",
       " '/story/nike-a-ma-maniere-air-max-95-release-2025',\n",
       " '/story/show-notes-pharrells-bodyguard-is-a-style-god',\n",
       " '/story/bradley-cooper-louis-vuitton-beverly-hills-sneaker-navy',\n",
       " '/story/new-balance-drakes-allerdale-release-date',\n",
       " '/gallery/celebrity-looks-paris-fashion-week-ss26-ysl-lv',\n",
       " '/story/louis-vuitton-ss26-show-paris-fashion-week',\n",
       " '/story/flip-flops-auralee-paris-fashion-week-ss26',\n",
       " '/story/show-notes-saint-laurent-ss26-anthony-vaccarrello',\n",
       " '/story/best-adidas-sambas-ranking',\n",
       " '/story/why-jfk-jrs-style-still-matters',\n",
       " '/story/shai-gilgeous-alexander-best-nba-playoff-fits-2025',\n",
       " '/story/gauthier-borsarello-vintage-collection-interview',\n",
       " '/story/zohran-mamdani-nyc-mayoral-campaign-merch',\n",
       " '/story/show-notes-prada-spring-2026-mens-review',\n",
       " '/story/show-notes-our-legacy-milan-fashion-week-ss26',\n",
       " '/story/show-notes-umit-benan-milan-fashion-week-ss25',\n",
       " '/story/bradley-cooper-jeremy-strong-vacationing-together-italy-linen',\n",
       " '/story/my-journey-to-buy-a-back-alley-labubu',\n",
       " '/story/best-dress-socks',\n",
       " '/story/jonathan-bailey-spielberg-cosplay-jurassic-world-rebirth-premiere',\n",
       " '/story/marni-francesco-risso-exits']"
      ]
     },
     "execution_count": 50,
     "metadata": {},
     "output_type": "execute_result"
    }
   ],
   "source": [
    "# article links\n",
    "sel.css(\"div.SummaryItemAssetContainer-gwhFFH a::attr('href')\").getall()"
   ]
  },
  {
   "cell_type": "code",
   "execution_count": 52,
   "id": "b58ca064",
   "metadata": {},
   "outputs": [
    {
     "data": {
      "text/plain": [
       "'?page=2'"
      ]
     },
     "execution_count": 52,
     "metadata": {},
     "output_type": "execute_result"
    }
   ],
   "source": [
    "# next page link\n",
    "next_page = sel.css(\"div.fMoTog a::attr('href')\").get()\n",
    "next_page"
   ]
  },
  {
   "cell_type": "code",
   "execution_count": null,
   "id": "73c9e9d9",
   "metadata": {},
   "outputs": [
    {
     "data": {
      "text/plain": [
       "<Response [200]>"
      ]
     },
     "execution_count": 102,
     "metadata": {},
     "output_type": "execute_result"
    }
   ],
   "source": [
    "# testing individual articles\n",
    "a_url = 'https://www.gq.com/story/three-signs-your-acne-is-really-a-serious-skin-condition'\n",
    "a_response = requests.get(a_url)\n",
    "a_sel = Selector(text=a_response.text)\n",
    "a_response"
   ]
  },
  {
   "cell_type": "code",
   "execution_count": null,
   "id": "d300cdf1",
   "metadata": {},
   "outputs": [
    {
     "data": {
      "text/plain": [
       "'Three Signs Your ‘Acne’ Is Really a Serious Skin Condition'"
      ]
     },
     "execution_count": 103,
     "metadata": {},
     "output_type": "execute_result"
    }
   ],
   "source": [
    "# article title\n",
    "a_sel.css('h1::text').get()"
   ]
  },
  {
   "cell_type": "code",
   "execution_count": null,
   "id": "e99d9113",
   "metadata": {},
   "outputs": [
    {
     "data": {
      "text/plain": [
       "'Wellness'"
      ]
     },
     "execution_count": 105,
     "metadata": {},
     "output_type": "execute_result"
    }
   ],
   "source": [
    "# article topic\n",
    "a_sel.css('a.RubricLink-gRWSOU span::text').get()"
   ]
  },
  {
   "cell_type": "code",
   "execution_count": 148,
   "id": "469507e0",
   "metadata": {},
   "outputs": [
    {
     "data": {
      "text/plain": [
       "'Dean Stattmann'"
      ]
     },
     "execution_count": 148,
     "metadata": {},
     "output_type": "execute_result"
    }
   ],
   "source": [
    "# author name\n",
    "a_sel.css('span.BylineName-kwmrLn a::text').get()"
   ]
  },
  {
   "cell_type": "code",
   "execution_count": 167,
   "id": "2da06119",
   "metadata": {},
   "outputs": [
    {
     "data": {
      "text/plain": [
       "'December 10, 2024'"
      ]
     },
     "execution_count": 167,
     "metadata": {},
     "output_type": "execute_result"
    }
   ],
   "source": [
    "# date published\n",
    "a_sel.css('time::text').get()"
   ]
  },
  {
   "cell_type": "code",
   "execution_count": 166,
   "id": "f9e39eee",
   "metadata": {},
   "outputs": [
    {
     "data": {
      "text/plain": [
       "(['It shows up in specific areas of the body',\n",
       "  'It doesn’t produce comedones',\n",
       "  'It leaves behind a “network” of scarring beneath the skin'],\n",
       " ['It will probably come as no surprise that acne is one of the more common skin disorders out there. Most of us have either experienced it firsthand or know someone who has. While acne is more prevalent among teens and young adults—impacting around 85% of those between the ages of 12 and 24, according to a Yale Medicine estimate—it affects men and women of all ages, including more than 12% of men in their forties.',\n",
       "  'Given its ubiquity, along with the fact that acne can present a range of symptoms that vary in both severity and appearance, it makes sense that other skin conditions could easily be mistaken for acne, and vice-versa. The thing with that is, while another skin condition may look or feel like acne, it could be something else entirely—and potentially something more serious that requires different treatment altogether.',\n",
       "  '“For example, if it comes on suddenly, especially where there is minimal or no history of acne, that could be bacterial folliculitis,” says ',\n",
       "  ', board-certified dermatologist and clinical instructor in the Department of Dermatology at Mount Sinai. “Similarly, if it doesn’t respond to typical acne treatments, it could be fungal folliculitis or even rosacea.”',\n",
       "  '“Or it could be something more serious, like hidradenitis suppurativa,” says Dr. Shaikh. Hidradenitis suppurativa is an autoinflammatory condition that shares some of the same characteristics as acne, but if left untreated—or mistakenly treated as acne—can spiral out into a painful, self-perpetuating cycle of cystic flare-ups and complex scarring.',\n",
       "  \"“I've seen a lot of patients that self-treat, that self-diagnose, and what you end up seeing is things like a contact rash or more severe irritation or worsening of the condition, because it's actually not acne,” says Nicole Lee, MD, MPH, FAAD, board-certified dermatologist and owner of \",\n",
       "  '.',\n",
       "  'The good news is that, while hidradenitis suppurativa is a chronic condition, effective treatments exist, and getting a handle on it early can make all the difference, says Dr. Lee. “Go see a dermatologist as soon as you suspect anything. Don’t wait.”',\n",
       "  'Here are three signs that your “acne” might actually be hidradenitis suppurativa.',\n",
       "  '“The first thing I would point to is the areas of the body that are affected,” says Dr. Shaikh.',\n",
       "  'One of the similarities between hidradenitis suppurativa and acne is that they both originate at the site of an obstructed or occluded hair follicle. So both conditions are really only going to show up—only ',\n",
       "  ' show up—where hair follicles exist. Hidradenitis suppurativa, however, tends to impact an even smaller subset of locales.',\n",
       "  \"“Compared to even an extreme form of cystic acne, I would say what's unique to hidradenitis suppurativa is the locations,” says Dr. Lee. “Acne is typically on exposed areas, like your face, your arms, your chest, and your back, whereas hidradenitis suppurativa typically is at the folds of your skin where you have the most sweating, like the armpits, groin, or butt. I've even seen patients who have it on the back of the neck.”\",\n",
       "  'If your symptoms are manifesting in an area that gets a lot of skin-on-skin friction, that’s your first sign that it could be hidradenitis suppurativa.',\n",
       "  \"When you’re dealing with acne, you often tend to have comedones—blackheads and whiteheads. That’s not always the case, but it’s pretty standard. “To be clear, you can have just purely cystic acne; that's a thing that exists,” says Dr. Shaikh. Hidradenitis suppurativa, in contrast, presents mostly as nodules and cysts under the skin.\",\n",
       "  '“The idea with acne, which also involves the hair follicle, is we think about all of its manifestations as kind of outward. You see a whitehead or a blackhead, or you see a bump or something on the skin. With hidradenitis suppurativa, much of that process is going on within,” says Dr. Shaikh.',\n",
       "  \"“You can have deep, painful cysts in both diseases, but if someone came to me and said, ‘Listen, I only have cysts, and I have never had a single blackhead or a single whitehead, and I've never had a pustule; it's all just like these deeper nodules,’ and they happen to be on an anatomical area that is not classic for acne, I would be raising my eyebrow.”\",\n",
       "  \"While acne can cover patches of skin, those areas are essentially comprised of discrete, individual lesions. In other words, you could rub your finger over an affected area and feel where one bump ends and another begins. Hidradenitis suppurativa may start out like this, with cysts spaced out by areas of healthy skin, but over time they can connect, forming a subdermal network of scar tissue, says Dr. Lee. “That usually gets us saying, “OK, we're in a whole different category right now. We need to manage this differently.”\",\n",
       "  \"When a cyst bursts, it creates what is called a sinus tract— “a little hole in the skin where you'll see drainage of pus or potentially blood,” explains Dr. Shaikh. While sinus tracts will sometimes route directly to the surface of the skin, in the case of hidradenitis suppurativa they’ll often connect to the site of a previously ruptured cyst, leaving behind a tunnel of scar tissue. Over time, without intervention, that can become a complex network of scar-tissue tracts beneath the skin.\",\n",
       "  \"“Acne scarring can certainly happen, and it's something that we see a lot, but sinus tract formation—a collection of all these ruptured cysts and scar tissue underneath the skin—is classic for hidradenitis suppurativa,” says Dr. Shaikh. “I've never seen acne do that.”\"])"
      ]
     },
     "execution_count": 166,
     "metadata": {},
     "output_type": "execute_result"
    }
   ],
   "source": [
    "# article text\n",
    "bodytext = a_sel.css('article.article p::text').getall()\n",
    "h2text = a_sel.css('article.article strong::text').getall()\n",
    "h2text, bodytext"
   ]
  },
  {
   "cell_type": "code",
   "execution_count": null,
   "id": "39efeb4e",
   "metadata": {},
   "outputs": [],
   "source": []
  }
 ],
 "metadata": {
  "kernelspec": {
   "display_name": "base",
   "language": "python",
   "name": "python3"
  },
  "language_info": {
   "codemirror_mode": {
    "name": "ipython",
    "version": 3
   },
   "file_extension": ".py",
   "mimetype": "text/x-python",
   "name": "python",
   "nbconvert_exporter": "python",
   "pygments_lexer": "ipython3",
   "version": "3.13.5"
  }
 },
 "nbformat": 4,
 "nbformat_minor": 5
}
