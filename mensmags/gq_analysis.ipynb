{
 "cells": [
  {
   "cell_type": "code",
   "execution_count": 7,
   "id": "994ce762",
   "metadata": {},
   "outputs": [],
   "source": [
    "import pandas as pd\n",
    "import spacy\n",
    "import random"
   ]
  },
  {
   "cell_type": "code",
   "execution_count": 9,
   "id": "d3569c94",
   "metadata": {},
   "outputs": [],
   "source": [
    "df = pd.read_json('gq_output.json')"
   ]
  },
  {
   "cell_type": "code",
   "execution_count": 4,
   "id": "7afb9972",
   "metadata": {},
   "outputs": [
    {
     "name": "stdout",
     "output_type": "stream",
     "text": [
      "<class 'pandas.core.frame.DataFrame'>\n",
      "RangeIndex: 7495 entries, 0 to 7494\n",
      "Data columns (total 6 columns):\n",
      " #   Column    Non-Null Count  Dtype         \n",
      "---  ------    --------------  -----         \n",
      " 0   date      7491 non-null   datetime64[ns]\n",
      " 1   topic     7491 non-null   object        \n",
      " 2   author    7441 non-null   object        \n",
      " 3   title     7476 non-null   object        \n",
      " 4   bodytext  7495 non-null   object        \n",
      " 5   h2text    7495 non-null   object        \n",
      "dtypes: datetime64[ns](1), object(5)\n",
      "memory usage: 351.5+ KB\n"
     ]
    }
   ],
   "source": [
    "df.info()"
   ]
  },
  {
   "cell_type": "code",
   "execution_count": null,
   "id": "699c1e0c",
   "metadata": {},
   "outputs": [],
   "source": [
    "df.head(20)"
   ]
  },
  {
   "cell_type": "code",
   "execution_count": 6,
   "id": "835d0aef",
   "metadata": {},
   "outputs": [
    {
     "data": {
      "text/plain": [
       "topic\n",
       "Style                    3776\n",
       "Grooming                 1207\n",
       "Wellness                  924\n",
       "Fitness                   649\n",
       "Shopping                  417\n",
       "Culture                   162\n",
       "Sex and Relationships     147\n",
       "GQ Style                   49\n",
       "Sponsor Content            48\n",
       "Lifestyle                  42\n",
       "GQ Sports                  34\n",
       "Women                      15\n",
       "Travel & Eats              10\n",
       "Watches                     9\n",
       "shopping                    1\n",
       "Coronavirus                 1\n",
       "Name: count, dtype: int64"
      ]
     },
     "execution_count": 6,
     "metadata": {},
     "output_type": "execute_result"
    }
   ],
   "source": [
    "df['topic'].value_counts()"
   ]
  },
  {
   "cell_type": "code",
   "execution_count": null,
   "id": "de0144a5",
   "metadata": {},
   "outputs": [],
   "source": [
    "# taking a look at Sponsor Content\n",
    "df[df['topic'] == 'Sponsor Content'].head(20)"
   ]
  },
  {
   "cell_type": "code",
   "execution_count": null,
   "id": "ad554508",
   "metadata": {},
   "outputs": [],
   "source": [
    "# remove Sponsor Content\n",
    "df = df[df['topic'] != 'Sponsor Content']"
   ]
  },
  {
   "cell_type": "code",
   "execution_count": 33,
   "id": "b4390ddd",
   "metadata": {},
   "outputs": [
    {
     "data": {
      "text/plain": [
       "topic\n",
       "Style                    3776\n",
       "Grooming                 1207\n",
       "Wellness                  924\n",
       "Fitness                   649\n",
       "Shopping                  417\n",
       "Culture                   162\n",
       "Sex and Relationships     147\n",
       "GQ Style                   49\n",
       "Lifestyle                  42\n",
       "GQ Sports                  34\n",
       "Women                      15\n",
       "Travel & Eats              10\n",
       "Watches                     9\n",
       "shopping                    1\n",
       "Coronavirus                 1\n",
       "Name: count, dtype: int64"
      ]
     },
     "execution_count": 33,
     "metadata": {},
     "output_type": "execute_result"
    }
   ],
   "source": [
    "df['topic'].value_counts()"
   ]
  },
  {
   "cell_type": "code",
   "execution_count": null,
   "id": "67fa5bf1",
   "metadata": {},
   "outputs": [],
   "source": [
    "# copilot: remove this string from 'bodytext'\n",
    "df['bodytext'] = df['bodytext'].apply(\n",
    "    lambda x: [s.replace(\n",
    "        \"All products featured on GQ are independently selected by our editors. However, we may receive compensation from retailers and/or from purchases of products through these links.\", \n",
    "        \"\"\n",
    "    ) if isinstance(s, str) else s for s in x] if isinstance(x, list) else x\n",
    ")"
   ]
  },
  {
   "cell_type": "code",
   "execution_count": 12,
   "id": "55c0aa80",
   "metadata": {},
   "outputs": [],
   "source": [
    "# create dataset for training\n",
    "# isolate strings from body and subheadings\n",
    "df_textonly = df[['bodytext']].copy()\n",
    "\n",
    "# copilot: join the list of strings in 'bodytext' into a single string per row\n",
    "df_textonly['bodytext'] = df_textonly['bodytext'].apply(lambda x: \" \".join(x) if isinstance(x, list) else str(x))"
   ]
  },
  {
   "cell_type": "code",
   "execution_count": 13,
   "id": "67a8d7cc",
   "metadata": {},
   "outputs": [],
   "source": [
    "# copilot: remove rows where 'bodytext' is empty or only whitespace\n",
    "df_textonly = df_textonly[df_textonly['bodytext'].str.strip().astype(bool)]"
   ]
  },
  {
   "cell_type": "code",
   "execution_count": 58,
   "id": "89a38701",
   "metadata": {},
   "outputs": [
    {
     "data": {
      "text/html": [
       "<div>\n",
       "<style scoped>\n",
       "    .dataframe tbody tr th:only-of-type {\n",
       "        vertical-align: middle;\n",
       "    }\n",
       "\n",
       "    .dataframe tbody tr th {\n",
       "        vertical-align: top;\n",
       "    }\n",
       "\n",
       "    .dataframe thead th {\n",
       "        text-align: right;\n",
       "    }\n",
       "</style>\n",
       "<table border=\"1\" class=\"dataframe\">\n",
       "  <thead>\n",
       "    <tr style=\"text-align: right;\">\n",
       "      <th></th>\n",
       "      <th>bodytext</th>\n",
       "    </tr>\n",
       "  </thead>\n",
       "  <tbody>\n",
       "    <tr>\n",
       "      <th>0</th>\n",
       "      <td>Few lifestyle choices come with as much cultur...</td>\n",
       "    </tr>\n",
       "    <tr>\n",
       "      <th>1</th>\n",
       "      <td>for the summer takes serious commitment. But ...</td>\n",
       "    </tr>\n",
       "    <tr>\n",
       "      <th>2</th>\n",
       "      <td>Every morning for the past three weeks I have...</td>\n",
       "    </tr>\n",
       "    <tr>\n",
       "      <th>3</th>\n",
       "      <td>It is 2024, and we're talking about macronutr...</td>\n",
       "    </tr>\n",
       "    <tr>\n",
       "      <th>4</th>\n",
       "      <td>Rich, 33, has always admired butts—on everyon...</td>\n",
       "    </tr>\n",
       "  </tbody>\n",
       "</table>\n",
       "</div>"
      ],
      "text/plain": [
       "                                            bodytext\n",
       "0  Few lifestyle choices come with as much cultur...\n",
       "1   for the summer takes serious commitment. But ...\n",
       "2   Every morning for the past three weeks I have...\n",
       "3   It is 2024, and we're talking about macronutr...\n",
       "4   Rich, 33, has always admired butts—on everyon..."
      ]
     },
     "execution_count": 58,
     "metadata": {},
     "output_type": "execute_result"
    }
   ],
   "source": [
    "df_textonly.head()"
   ]
  },
  {
   "cell_type": "code",
   "execution_count": null,
   "id": "8a181a5b",
   "metadata": {},
   "outputs": [
    {
     "name": "stdout",
     "output_type": "stream",
     "text": [
      "<class 'pandas.core.frame.DataFrame'>\n",
      "Index: 6674 entries, 0 to 7494\n",
      "Data columns (total 1 columns):\n",
      " #   Column    Non-Null Count  Dtype \n",
      "---  ------    --------------  ----- \n",
      " 0   bodytext  6674 non-null   object\n",
      "dtypes: object(1)\n",
      "memory usage: 104.3+ KB\n"
     ]
    }
   ],
   "source": [
    "# checking that empty rows were removed\n",
    "df_textonly.info()"
   ]
  },
  {
   "cell_type": "code",
   "execution_count": 14,
   "id": "88857c7c",
   "metadata": {},
   "outputs": [],
   "source": [
    "# copilot: remove leading whitespace from each row in 'bodytext'\n",
    "df_textonly['bodytext'] = df_textonly['bodytext'].str.lstrip()"
   ]
  },
  {
   "cell_type": "code",
   "execution_count": 15,
   "id": "630215be",
   "metadata": {},
   "outputs": [],
   "source": [
    "# copilot: replace multiple consecutive whitespace characters with a single space in 'bodytext'\n",
    "\n",
    "import re\n",
    "\n",
    "df_textonly['bodytext'] = df_textonly['bodytext'].apply(lambda x: re.sub(r'\\s+', ' ', x))"
   ]
  },
  {
   "cell_type": "code",
   "execution_count": 16,
   "id": "91e2032b",
   "metadata": {},
   "outputs": [],
   "source": [
    "# copilot: remove whitespace before each comma and period in 'bodytext'\n",
    "df_textonly['bodytext'] = df_textonly['bodytext'].apply(lambda x: re.sub(r'\\s+([,.])', r'\\1', x))"
   ]
  },
  {
   "cell_type": "code",
   "execution_count": 17,
   "id": "027039bd",
   "metadata": {},
   "outputs": [],
   "source": [
    "# save as text file for training in colab\n",
    "df_textonly.to_csv('df_textonly.txt', index=False, header=False)"
   ]
  },
  {
   "cell_type": "markdown",
   "id": "1ecbb028",
   "metadata": {},
   "source": [
    "### NLP with spacy"
   ]
  },
  {
   "cell_type": "code",
   "execution_count": 19,
   "id": "b12e30aa",
   "metadata": {},
   "outputs": [
    {
     "data": {
      "text/plain": [
       "['Remember when you could just blog your way to worldwide fame?',\n",
       " 'I’m exaggerating, but only a little: between 2008 and 2014, there was a glimmering promise that anyone with a dot-blogspot URL and a friend to take decent photos of them could land in the front row of Paris Fashion Week’s most coveted shows, in major advertising campaigns, and in roles advising brands on what to sell and how to sell it. The carefully calibrated machinery of fashion world approval was suddenly threatened, and with it the years-long process of masthead ascension. ',\n",
       " ' Now, that kind of brazen dedication to extreme personal style isn’t something to be feared—it’s the industry’s defining narrative.',\n",
       " 'Kenzo, the French brand run since 2010 by Opening Ceremony honchos Humberto Leon and Carol Lim, was perhaps the most emblematic fashion brand of that moment, beloved for a tiger-logo sweater. Today, ',\n",
       " ', it’s worth looking back on what, exactly, that sweater meant for the fashion world.',\n",
       " 'One way to ensure digital success in that go-go moment was to just dress your way there, often by securing a must-have item like ',\n",
       " ', the ',\n",
       " ', something from Raf Simon’s first collaborations with Adidas, in 2013—or Kenzo’s Tiger Sweater. We talk a lot about ',\n",
       " '—but these “streetstyle bait” pieces, made ubiquitous through aggressive gifting and good old fashioned shopping, were really the first to be “everywhere,” on “everyone.” Appearing in one on your blog, or even better, in a Tommy Ton photograph on Vogue.com, swanning into a show with iPhone and thick paper invite clutched against your Kenzo Tiger pouch, was a sign that you had made it to the industry’s upper echelons.',\n",
       " 'Leon and Lim introduced the sweater two years into their tenure at the house, for the Fall 2012 collections, at the height of the fashion blogger craze. (',\n",
       " '.)  “In a mere two seasons, Humberto Leon and Carol Lim have turned Kenzo into one of the hottest shows on the Paris calendar,” ',\n",
       " \" wrote in its review of that collection, noting that “it wouldn't be a surprise to see their logo tiger sweater, a revived house code, everywhere in a few months.” Indeed, the design came from a motif the designers discovered while looking through the brand’s ’60s and ’70s archives, and which Leon asked the atelier to print on a sweatshirt. But—wanna feel old???—the company balked: “The brand has never made a sweatshirt,” \",\n",
       " '. “Ever.... They were like, ‘No one buys it.’ And we were like, ‘People buy sweatshirts.’ So we really fought to make these sweatshirts!”',\n",
       " 'To appease the brand, they also made sweaters—and that combination of the fancy knit with graphic-T casualness sold out in hours. “During the Spring 2013 collections in New York, it seemed like every It-blogger, fashion editor, and model was wearing one, and—making the item all the more tantalizing—the sweaters were not to be found for sale anywhere,” StyleCaster wrote. What made it special was that while anything from Balenciaga or Celine or a pair of fashion sneakers might set you back a few thousand dollars, the Kenzo Tiger Sweater was about $500. “Anyone” could get it, and that finessed the conversation around fashion exclusivity, opening the door for any product to become a must-have, regardless of the price. It was shortly thereafter, remember, that a Supreme T-shirt became the next must-have item for women at fashion week.',\n",
       " 'The balance continued to shift, and suddenly anything could be a “must-have” if it was scarce and arrived in a “drop.” Kenzo didn’t really pursue that strategy further, but it doesn’t really matter. The “advanced contemporary market,” a mostly-womenswear niche driven by brands like Kenzo that felt like luxury but were priced much lower, is now mostly gone. ',\n",
       " '. In terms of price and target demographic, ',\n",
       " ' The pendulum of the industry has swung back the other way, with magazines readily embracing the influencer revolution that grew out of fashion blogging, and influencers themselves taking a more editorial approach. The Kenzo Tiger may look retro now, but the history of the past decade of fashion is in that sweater.',\n",
       " 'Speaking to WWD about her Spring 2020 menswear collection, Donatella Versace said she’s always thinking about how men “evolve,” adding that “I’m interested in those who evolve more, because those are the ones who influence others.” In an instant-classic Versace koan, the designer said: “I like to think about what’s important for the young generations. For this collection, for example, I thought that the first thing that makes them feel like real men is having their own car.” She created an “imaginative car” that “represents what boys want.” It represents the freedom to go wherever you want. Vroom vroom, baby!',\n",
       " 'Ashley Biden, daughter of former Veep and 2020 presidential candidate Joe, launched a charitable hoodie line called Livelihood in 2017, which you may have missed with all the fascism going on. Earlier this week, in fact, she celebrated a new project in Washington, D.C., where she designed the uniforms for the staff of a hotel, along with a hooded bathrobe for guests. Biden has big plans for her brand, in part inspired by her conveniently menswear middle name, ',\n",
       " ': “My dream is to continue hoodies and perfecting the hoodie—that’s American-made, that’s super cozy, functional and sleek. And also potentially a blazer, because my middle name is Blazer. It’s a family name. But I also love blazers. A blazer with a hoodie.”']"
      ]
     },
     "execution_count": 19,
     "metadata": {},
     "output_type": "execute_result"
    }
   ],
   "source": [
    "# turning the article text into a list\n",
    "\n",
    "texts = df['bodytext'].to_list()\n",
    "texts[random.randint(0, len(texts))] # check a random list entry"
   ]
  },
  {
   "cell_type": "code",
   "execution_count": 24,
   "id": "e709c4e5",
   "metadata": {},
   "outputs": [
    {
     "name": "stdout",
     "output_type": "stream",
     "text": [
      "7361\n"
     ]
    }
   ],
   "source": [
    "nlp = spacy.load(\"en_core_web_sm\")\n",
    "\n",
    "# concatenate a specific article into one string\n",
    "# docs = nlp(\" \".join(texts[100]))\n",
    "\n",
    "# concatenate a random article into one string\n",
    "random_index = random.randint(0, len(texts) - 1)\n",
    "print(random_index)\n",
    "docs = nlp(\" \".join(texts[random_index]))"
   ]
  },
  {
   "cell_type": "code",
   "execution_count": 25,
   "id": "ea8346cc",
   "metadata": {},
   "outputs": [
    {
     "name": "stdout",
     "output_type": "stream",
     "text": [
      "two 253 256 CARDINAL\n",
      "John Galliano’s 636 651 PERSON\n",
      "Margiela 656 664 PERSON\n",
      "Paris 696 701 GPE\n",
      "Wednesday 705 714 DATE\n",
      "Gender 731 737 PERSON\n",
      "Galliano 791 799 ORG\n",
      "first 820 825 ORDINAL\n",
      "Margiela’s 832 842 PERSON\n",
      "Lemaire 975 982 PERSON\n",
      "Lanvin 987 993 PERSON\n",
      "Paris 1014 1019 GPE\n",
      "Wednesday 1023 1032 DATE\n",
      "Margiela 1034 1042 PERSON\n",
      "Galliano 1147 1155 PERSON\n",
      "London 1279 1285 GPE\n",
      "Wednesday 1582 1591 DATE\n",
      "Galliano 1668 1676 ORG\n",
      "late summer 1996 2007 DATE\n",
      "Galliano 2139 2147 ORG\n",
      "Galliano 2399 2407 ORG\n",
      "Raf and Demna 2751 2764 ORG\n",
      "Virgil 2769 2775 PERSON\n",
      "Galliano 2913 2921 ORG\n",
      "Galliano 2927 2935 ORG\n",
      "last summer 3235 3246 DATE\n",
      "Galliano 3248 3256 ORG\n",
      "Paris 3300 3305 GPE\n",
      "January 3309 3316 DATE\n",
      "a week later 3367 3379 DATE\n",
      "Wednesday 3398 3407 DATE\n",
      "Galliano 3808 3816 ORG\n",
      "Maison Margiela 3902 3917 PERSON\n",
      "Galliano 3943 3951 ORG\n",
      "this season 4055 4066 DATE\n",
      "Margiela 4128 4136 PERSON\n",
      "H&M 4150 4153 ORG\n",
      "Zara 4158 4162 PERSON\n",
      "Margiela 4266 4274 PERSON\n",
      "Galliano 4326 4334 ORG\n"
     ]
    }
   ],
   "source": [
    "for ent in docs.ents:\n",
    "    print(ent.text, ent.start_char, ent.end_char, ent.label_)"
   ]
  },
  {
   "cell_type": "code",
   "execution_count": 80,
   "id": "3c9dfae3",
   "metadata": {},
   "outputs": [
    {
     "data": {
      "text/plain": [
       "pandas.core.frame.DataFrame"
      ]
     },
     "execution_count": 80,
     "metadata": {},
     "output_type": "execute_result"
    }
   ],
   "source": [
    "type(df_textonly)"
   ]
  },
  {
   "cell_type": "code",
   "execution_count": 26,
   "id": "5ab965a5",
   "metadata": {},
   "outputs": [],
   "source": [
    "with open('df_textonly.txt', 'r', encoding='utf-8') as file:\n",
    "    text_data = file.read()"
   ]
  },
  {
   "cell_type": "code",
   "execution_count": 27,
   "id": "6777e723",
   "metadata": {},
   "outputs": [
    {
     "data": {
      "text/plain": [
       "str"
      ]
     },
     "execution_count": 27,
     "metadata": {},
     "output_type": "execute_result"
    }
   ],
   "source": [
    "type(text_data)"
   ]
  },
  {
   "cell_type": "code",
   "execution_count": 29,
   "id": "f403d7c4",
   "metadata": {},
   "outputs": [
    {
     "data": {
      "text/plain": [
       "32001243"
      ]
     },
     "execution_count": 29,
     "metadata": {},
     "output_type": "execute_result"
    }
   ],
   "source": [
    "len(text_data)"
   ]
  },
  {
   "cell_type": "code",
   "execution_count": 32,
   "id": "3edf1015",
   "metadata": {},
   "outputs": [],
   "source": [
    "max_length = 1000000  # spaCy's max length (text_data is too long)\n",
    "chunks = [text_data[i:i+max_length] for i in range(0, len(text_data), max_length)]\n",
    "\n",
    "docs = []\n",
    "for chunk in chunks:\n",
    "    docs.append(nlp(chunk))"
   ]
  },
  {
   "cell_type": "code",
   "execution_count": null,
   "id": "2e27da68",
   "metadata": {},
   "outputs": [],
   "source": [
    "# iterate through the smaller chunks\n",
    "for doc in docs: \n",
    "    for ent in doc.ents:\n",
    "        print(ent.text, ent.start_char, ent.end_char, ent.label_)"
   ]
  },
  {
   "cell_type": "code",
   "execution_count": null,
   "id": "18a0bb41",
   "metadata": {},
   "outputs": [],
   "source": [
    "# pull out full sentences only, there were too many fragments\n",
    "sentences = []\n",
    "for doc in docs: \n",
    "    for i in doc.sents:\n",
    "        sentences.append(str(i))"
   ]
  },
  {
   "cell_type": "code",
   "execution_count": null,
   "id": "ab4a29f4",
   "metadata": {},
   "outputs": [],
   "source": [
    "# export for training\n",
    "with open('sentences.txt', 'w', encoding='utf-8') as f:\n",
    "    for sentence in sentences:\n",
    "        f.write(sentence.strip() + '\\n')"
   ]
  },
  {
   "cell_type": "code",
   "execution_count": 41,
   "id": "558b6e28",
   "metadata": {},
   "outputs": [
    {
     "name": "stdout",
     "output_type": "stream",
     "text": [
      "{'encoding': 'ISO-8859-1', 'confidence': 0.73, 'language': ''}\n"
     ]
    }
   ],
   "source": [
    "import chardet\n",
    "with open('cleaned.csv', 'rb') as f:\n",
    "    result = chardet.detect(f.read(1000000))\n",
    "    print(result)"
   ]
  },
  {
   "cell_type": "code",
   "execution_count": 56,
   "id": "3f01108f",
   "metadata": {},
   "outputs": [],
   "source": [
    "dfcleaned = pd.read_csv('cleaned.csv', encoding='utf-8')"
   ]
  },
  {
   "cell_type": "code",
   "execution_count": 57,
   "id": "7c193f17",
   "metadata": {},
   "outputs": [
    {
     "name": "stdout",
     "output_type": "stream",
     "text": [
      "<class 'pandas.core.frame.DataFrame'>\n",
      "RangeIndex: 1143 entries, 0 to 1142\n",
      "Data columns (total 2 columns):\n",
      " #   Column  Non-Null Count  Dtype \n",
      "---  ------  --------------  ----- \n",
      " 0   text    1143 non-null   object\n",
      " 1   length  1143 non-null   int64 \n",
      "dtypes: int64(1), object(1)\n",
      "memory usage: 18.0+ KB\n"
     ]
    }
   ],
   "source": [
    "dfcleaned.info()"
   ]
  },
  {
   "cell_type": "code",
   "execution_count": 58,
   "id": "5e8a660c",
   "metadata": {},
   "outputs": [
    {
     "data": {
      "text/html": [
       "<div>\n",
       "<style scoped>\n",
       "    .dataframe tbody tr th:only-of-type {\n",
       "        vertical-align: middle;\n",
       "    }\n",
       "\n",
       "    .dataframe tbody tr th {\n",
       "        vertical-align: top;\n",
       "    }\n",
       "\n",
       "    .dataframe thead th {\n",
       "        text-align: right;\n",
       "    }\n",
       "</style>\n",
       "<table border=\"1\" class=\"dataframe\">\n",
       "  <thead>\n",
       "    <tr style=\"text-align: right;\">\n",
       "      <th></th>\n",
       "      <th>text</th>\n",
       "      <th>length</th>\n",
       "    </tr>\n",
       "  </thead>\n",
       "  <tbody>\n",
       "    <tr>\n",
       "      <th>0</th>\n",
       "      <td>Masculinity is often seen as a monolithic, hom...</td>\n",
       "      <td>179</td>\n",
       "    </tr>\n",
       "    <tr>\n",
       "      <th>1</th>\n",
       "      <td>Men need a good pair of shoes for a variety of...</td>\n",
       "      <td>172</td>\n",
       "    </tr>\n",
       "    <tr>\n",
       "      <th>2</th>\n",
       "      <td>Nice guys are going to wear the same pants, an...</td>\n",
       "      <td>170</td>\n",
       "    </tr>\n",
       "    <tr>\n",
       "      <th>3</th>\n",
       "      <td>A real man, I really can't tell you much about...</td>\n",
       "      <td>169</td>\n",
       "    </tr>\n",
       "    <tr>\n",
       "      <th>4</th>\n",
       "      <td>Nice guys are so focused on their looks and gr...</td>\n",
       "      <td>168</td>\n",
       "    </tr>\n",
       "  </tbody>\n",
       "</table>\n",
       "</div>"
      ],
      "text/plain": [
       "                                                text  length\n",
       "0  Masculinity is often seen as a monolithic, hom...     179\n",
       "1  Men need a good pair of shoes for a variety of...     172\n",
       "2  Nice guys are going to wear the same pants, an...     170\n",
       "3  A real man, I really can't tell you much about...     169\n",
       "4  Nice guys are so focused on their looks and gr...     168"
      ]
     },
     "execution_count": 58,
     "metadata": {},
     "output_type": "execute_result"
    }
   ],
   "source": [
    "dfcleaned.head()"
   ]
  },
  {
   "cell_type": "code",
   "execution_count": 59,
   "id": "d6533a4f",
   "metadata": {},
   "outputs": [],
   "source": [
    "dfcleaned.drop_duplicates(subset=['text'], keep='first', inplace=True)"
   ]
  },
  {
   "cell_type": "code",
   "execution_count": null,
   "id": "2c978882",
   "metadata": {},
   "outputs": [],
   "source": []
  },
  {
   "cell_type": "code",
   "execution_count": 60,
   "id": "83ee6e65",
   "metadata": {},
   "outputs": [
    {
     "name": "stdout",
     "output_type": "stream",
     "text": [
      "<class 'pandas.core.frame.DataFrame'>\n",
      "Index: 1082 entries, 0 to 1142\n",
      "Data columns (total 2 columns):\n",
      " #   Column  Non-Null Count  Dtype \n",
      "---  ------  --------------  ----- \n",
      " 0   text    1082 non-null   object\n",
      " 1   length  1082 non-null   int64 \n",
      "dtypes: int64(1), object(1)\n",
      "memory usage: 25.4+ KB\n"
     ]
    }
   ],
   "source": [
    "dfcleaned.info()"
   ]
  },
  {
   "cell_type": "code",
   "execution_count": 62,
   "id": "3a0d8651",
   "metadata": {},
   "outputs": [
    {
     "data": {
      "text/html": [
       "<div>\n",
       "<style scoped>\n",
       "    .dataframe tbody tr th:only-of-type {\n",
       "        vertical-align: middle;\n",
       "    }\n",
       "\n",
       "    .dataframe tbody tr th {\n",
       "        vertical-align: top;\n",
       "    }\n",
       "\n",
       "    .dataframe thead th {\n",
       "        text-align: right;\n",
       "    }\n",
       "</style>\n",
       "<table border=\"1\" class=\"dataframe\">\n",
       "  <thead>\n",
       "    <tr style=\"text-align: right;\">\n",
       "      <th></th>\n",
       "      <th>text</th>\n",
       "      <th>length</th>\n",
       "    </tr>\n",
       "  </thead>\n",
       "  <tbody>\n",
       "    <tr>\n",
       "      <th>0</th>\n",
       "      <td>Masculinity is often seen as a monolithic, hom...</td>\n",
       "      <td>179</td>\n",
       "    </tr>\n",
       "    <tr>\n",
       "      <th>1</th>\n",
       "      <td>Men need a good pair of shoes for a variety of...</td>\n",
       "      <td>172</td>\n",
       "    </tr>\n",
       "    <tr>\n",
       "      <th>2</th>\n",
       "      <td>Nice guys are going to wear the same pants, an...</td>\n",
       "      <td>170</td>\n",
       "    </tr>\n",
       "    <tr>\n",
       "      <th>3</th>\n",
       "      <td>A real man, I really can't tell you much about...</td>\n",
       "      <td>169</td>\n",
       "    </tr>\n",
       "    <tr>\n",
       "      <th>4</th>\n",
       "      <td>Nice guys are so focused on their looks and gr...</td>\n",
       "      <td>168</td>\n",
       "    </tr>\n",
       "  </tbody>\n",
       "</table>\n",
       "</div>"
      ],
      "text/plain": [
       "                                                text  length\n",
       "0  Masculinity is often seen as a monolithic, hom...     179\n",
       "1  Men need a good pair of shoes for a variety of...     172\n",
       "2  Nice guys are going to wear the same pants, an...     170\n",
       "3  A real man, I really can't tell you much about...     169\n",
       "4  Nice guys are so focused on their looks and gr...     168"
      ]
     },
     "execution_count": 62,
     "metadata": {},
     "output_type": "execute_result"
    }
   ],
   "source": [
    "dfcleaned.head()"
   ]
  },
  {
   "cell_type": "code",
   "execution_count": 63,
   "id": "a071dd09",
   "metadata": {},
   "outputs": [],
   "source": [
    "dfcleaned.to_csv('cleaned_unique.csv', index=False, encoding='utf-8', header=True)"
   ]
  },
  {
   "cell_type": "code",
   "execution_count": null,
   "id": "5d299e8f",
   "metadata": {},
   "outputs": [],
   "source": []
  }
 ],
 "metadata": {
  "kernelspec": {
   "display_name": "mensmag (venv)",
   "language": "python",
   "name": "mmvenv"
  },
  "language_info": {
   "codemirror_mode": {
    "name": "ipython",
    "version": 3
   },
   "file_extension": ".py",
   "mimetype": "text/x-python",
   "name": "python",
   "nbconvert_exporter": "python",
   "pygments_lexer": "ipython3",
   "version": "3.13.5"
  }
 },
 "nbformat": 4,
 "nbformat_minor": 5
}
