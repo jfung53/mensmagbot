{
 "cells": [
  {
   "cell_type": "code",
   "execution_count": 9,
   "id": "994ce762",
   "metadata": {},
   "outputs": [],
   "source": [
    "import pandas as pd\n",
    "import spacy\n",
    "import random"
   ]
  },
  {
   "cell_type": "code",
   "execution_count": 3,
   "id": "d3569c94",
   "metadata": {},
   "outputs": [],
   "source": [
    "df = pd.read_json('gq_output.json')"
   ]
  },
  {
   "cell_type": "code",
   "execution_count": 4,
   "id": "7afb9972",
   "metadata": {},
   "outputs": [
    {
     "name": "stdout",
     "output_type": "stream",
     "text": [
      "<class 'pandas.core.frame.DataFrame'>\n",
      "RangeIndex: 7495 entries, 0 to 7494\n",
      "Data columns (total 6 columns):\n",
      " #   Column    Non-Null Count  Dtype         \n",
      "---  ------    --------------  -----         \n",
      " 0   date      7491 non-null   datetime64[ns]\n",
      " 1   topic     7491 non-null   object        \n",
      " 2   author    7441 non-null   object        \n",
      " 3   title     7476 non-null   object        \n",
      " 4   bodytext  7495 non-null   object        \n",
      " 5   h2text    7495 non-null   object        \n",
      "dtypes: datetime64[ns](1), object(5)\n",
      "memory usage: 351.5+ KB\n"
     ]
    }
   ],
   "source": [
    "df.info()"
   ]
  },
  {
   "cell_type": "code",
   "execution_count": null,
   "id": "699c1e0c",
   "metadata": {},
   "outputs": [],
   "source": [
    "df.head(20)"
   ]
  },
  {
   "cell_type": "code",
   "execution_count": 6,
   "id": "835d0aef",
   "metadata": {},
   "outputs": [
    {
     "data": {
      "text/plain": [
       "topic\n",
       "Style                    3776\n",
       "Grooming                 1207\n",
       "Wellness                  924\n",
       "Fitness                   649\n",
       "Shopping                  417\n",
       "Culture                   162\n",
       "Sex and Relationships     147\n",
       "GQ Style                   49\n",
       "Sponsor Content            48\n",
       "Lifestyle                  42\n",
       "GQ Sports                  34\n",
       "Women                      15\n",
       "Travel & Eats              10\n",
       "Watches                     9\n",
       "shopping                    1\n",
       "Coronavirus                 1\n",
       "Name: count, dtype: int64"
      ]
     },
     "execution_count": 6,
     "metadata": {},
     "output_type": "execute_result"
    }
   ],
   "source": [
    "df['topic'].value_counts()"
   ]
  },
  {
   "cell_type": "code",
   "execution_count": null,
   "id": "de0144a5",
   "metadata": {},
   "outputs": [],
   "source": [
    "# taking a look at Sponsor Content\n",
    "df[df['topic'] == 'Sponsor Content'].head(20)"
   ]
  },
  {
   "cell_type": "code",
   "execution_count": 32,
   "id": "ad554508",
   "metadata": {},
   "outputs": [],
   "source": [
    "df = df[df['topic'] != 'Sponsor Content']"
   ]
  },
  {
   "cell_type": "code",
   "execution_count": 33,
   "id": "b4390ddd",
   "metadata": {},
   "outputs": [
    {
     "data": {
      "text/plain": [
       "topic\n",
       "Style                    3776\n",
       "Grooming                 1207\n",
       "Wellness                  924\n",
       "Fitness                   649\n",
       "Shopping                  417\n",
       "Culture                   162\n",
       "Sex and Relationships     147\n",
       "GQ Style                   49\n",
       "Lifestyle                  42\n",
       "GQ Sports                  34\n",
       "Women                      15\n",
       "Travel & Eats              10\n",
       "Watches                     9\n",
       "shopping                    1\n",
       "Coronavirus                 1\n",
       "Name: count, dtype: int64"
      ]
     },
     "execution_count": 33,
     "metadata": {},
     "output_type": "execute_result"
    }
   ],
   "source": [
    "df['topic'].value_counts()"
   ]
  },
  {
   "cell_type": "code",
   "execution_count": 40,
   "id": "67fa5bf1",
   "metadata": {},
   "outputs": [],
   "source": [
    "# copilot: remove the specified string from 'bodytext'\n",
    "df['bodytext'] = df['bodytext'].apply(\n",
    "    lambda x: [s.replace(\n",
    "        \"All products featured on GQ are independently selected by our editors. However, we may receive compensation from retailers and/or from purchases of products through these links.\", \n",
    "        \"\"\n",
    "    ) if isinstance(s, str) else s for s in x] if isinstance(x, list) else x\n",
    ")"
   ]
  },
  {
   "cell_type": "code",
   "execution_count": 56,
   "id": "55c0aa80",
   "metadata": {},
   "outputs": [],
   "source": [
    "# create dataset for training\n",
    "# isolate strings from body and subheadings\n",
    "df_textonly = df[['bodytext']].copy()\n",
    "\n",
    "# copilot: join the list of strings in 'bodytext' into a single string per row\n",
    "df_textonly['bodytext'] = df_textonly['bodytext'].apply(lambda x: \" \".join(x) if isinstance(x, list) else str(x))"
   ]
  },
  {
   "cell_type": "code",
   "execution_count": 57,
   "id": "67a8d7cc",
   "metadata": {},
   "outputs": [],
   "source": [
    "# copilot: remove rows where 'bodytext' is empty or only whitespace\n",
    "df_textonly = df_textonly[df_textonly['bodytext'].str.strip().astype(bool)]"
   ]
  },
  {
   "cell_type": "code",
   "execution_count": 58,
   "id": "89a38701",
   "metadata": {},
   "outputs": [
    {
     "data": {
      "text/html": [
       "<div>\n",
       "<style scoped>\n",
       "    .dataframe tbody tr th:only-of-type {\n",
       "        vertical-align: middle;\n",
       "    }\n",
       "\n",
       "    .dataframe tbody tr th {\n",
       "        vertical-align: top;\n",
       "    }\n",
       "\n",
       "    .dataframe thead th {\n",
       "        text-align: right;\n",
       "    }\n",
       "</style>\n",
       "<table border=\"1\" class=\"dataframe\">\n",
       "  <thead>\n",
       "    <tr style=\"text-align: right;\">\n",
       "      <th></th>\n",
       "      <th>bodytext</th>\n",
       "    </tr>\n",
       "  </thead>\n",
       "  <tbody>\n",
       "    <tr>\n",
       "      <th>0</th>\n",
       "      <td>Few lifestyle choices come with as much cultur...</td>\n",
       "    </tr>\n",
       "    <tr>\n",
       "      <th>1</th>\n",
       "      <td>for the summer takes serious commitment. But ...</td>\n",
       "    </tr>\n",
       "    <tr>\n",
       "      <th>2</th>\n",
       "      <td>Every morning for the past three weeks I have...</td>\n",
       "    </tr>\n",
       "    <tr>\n",
       "      <th>3</th>\n",
       "      <td>It is 2024, and we're talking about macronutr...</td>\n",
       "    </tr>\n",
       "    <tr>\n",
       "      <th>4</th>\n",
       "      <td>Rich, 33, has always admired butts—on everyon...</td>\n",
       "    </tr>\n",
       "  </tbody>\n",
       "</table>\n",
       "</div>"
      ],
      "text/plain": [
       "                                            bodytext\n",
       "0  Few lifestyle choices come with as much cultur...\n",
       "1   for the summer takes serious commitment. But ...\n",
       "2   Every morning for the past three weeks I have...\n",
       "3   It is 2024, and we're talking about macronutr...\n",
       "4   Rich, 33, has always admired butts—on everyon..."
      ]
     },
     "execution_count": 58,
     "metadata": {},
     "output_type": "execute_result"
    }
   ],
   "source": [
    "df_textonly.head()"
   ]
  },
  {
   "cell_type": "code",
   "execution_count": null,
   "id": "8a181a5b",
   "metadata": {},
   "outputs": [
    {
     "name": "stdout",
     "output_type": "stream",
     "text": [
      "<class 'pandas.core.frame.DataFrame'>\n",
      "Index: 6674 entries, 0 to 7494\n",
      "Data columns (total 1 columns):\n",
      " #   Column    Non-Null Count  Dtype \n",
      "---  ------    --------------  ----- \n",
      " 0   bodytext  6674 non-null   object\n",
      "dtypes: object(1)\n",
      "memory usage: 104.3+ KB\n"
     ]
    }
   ],
   "source": [
    "# checking that empty rows were removed\n",
    "df_textonly.info()"
   ]
  },
  {
   "cell_type": "code",
   "execution_count": 62,
   "id": "88857c7c",
   "metadata": {},
   "outputs": [],
   "source": [
    "# copilot: remove leading whitespace from each row in 'bodytext'\n",
    "df_textonly['bodytext'] = df_textonly['bodytext'].str.lstrip()"
   ]
  },
  {
   "cell_type": "code",
   "execution_count": null,
   "id": "630215be",
   "metadata": {},
   "outputs": [],
   "source": [
    "# copilot: replace multiple consecutive whitespace characters with a single space in 'bodytext'\n",
    "\n",
    "import re\n",
    "\n",
    "df_textonly['bodytext'] = df_textonly['bodytext'].apply(lambda x: re.sub(r'\\s+', ' ', x))"
   ]
  },
  {
   "cell_type": "code",
   "execution_count": 67,
   "id": "91e2032b",
   "metadata": {},
   "outputs": [],
   "source": [
    "# copilot: remove whitespace before each comma and period in 'bodytext'\n",
    "df_textonly['bodytext'] = df_textonly['bodytext'].apply(lambda x: re.sub(r'\\s+([,.])', r'\\1', x))"
   ]
  },
  {
   "cell_type": "code",
   "execution_count": null,
   "id": "027039bd",
   "metadata": {},
   "outputs": [],
   "source": [
    "# save as text file for training in colab\n",
    "df_textonly.to_csv('df_textonly.txt', index=False, header=False)"
   ]
  },
  {
   "cell_type": "markdown",
   "id": "1ecbb028",
   "metadata": {},
   "source": [
    "### NLP with spacy"
   ]
  },
  {
   "cell_type": "code",
   "execution_count": 70,
   "id": "b12e30aa",
   "metadata": {},
   "outputs": [
    {
     "data": {
      "text/plain": [
       "['',\n",
       " 'There’s just nobody doing it like New Balance in 2025. The ',\n",
       " ' and their ',\n",
       " ' have cooked up ',\n",
       " '. One such reliable partner? ',\n",
       " '. The legendary Italian sportswear brand has been a perfect match for New Balance since the pair first joined forces back in 2021. Their work has spanned a bevy of bodacious silhouettes, but this latest installment is arguably their best yet.',\n",
       " 'Next week, Stone Island’s take on the New Balance 272 hits stores. The 272 is a skate shoe that’s been in New Balance’s lineup for a minute—a pared-down no-frills sneaker with a vulcanized rubber sole and simple color paneling. It’s pure functionality that happens to look good without trying too hard.',\n",
       " 'New Balance',\n",
       " 'Stone Island',\n",
       " 'Stone Island’s gorpy, functional aesthetic injects the 272 with rocket fuel. The silhouette’s paneling splits the upper in half, using subtle two-tone contrast coloring in three renditions: off-white, blue, and yellow, each made of a combination of canvas and suede. The New Balance logo graces the middle and the shoe’s original sturdy, responsive vulcanized rubber sole stays put.',\n",
       " 'Easily one of the coolest skate shoes of 2025 from a brand in the midst of a banner year for the history books, the New Balance x Stone Island 272 drops on June 18 exclusively via ',\n",
       " '.',\n",
       " 'New Balance',\n",
       " 'Stone Island',\n",
       " 'New Balance',\n",
       " 'Stone Island']"
      ]
     },
     "execution_count": 70,
     "metadata": {},
     "output_type": "execute_result"
    }
   ],
   "source": [
    "# turning the article text into a list\n",
    "\n",
    "texts = df['bodytext'].to_list()\n",
    "texts[random.randint(0, len(texts))] # check a random list entry"
   ]
  },
  {
   "cell_type": "code",
   "execution_count": 71,
   "id": "e709c4e5",
   "metadata": {},
   "outputs": [],
   "source": [
    "nlp = spacy.load(\"en_core_web_sm\")\n",
    "\n",
    "# concatenate a specific article into one string\n",
    "# docs = nlp(\" \".join(texts[100]))\n",
    "\n",
    "# concatenate a random article into one string\n",
    "random_index = random.randint(0, len(texts) - 1)\n",
    "docs = nlp(\" \".join(texts[random_index]))"
   ]
  },
  {
   "cell_type": "code",
   "execution_count": 73,
   "id": "ea8346cc",
   "metadata": {},
   "outputs": [
    {
     "name": "stdout",
     "output_type": "stream",
     "text": [
      "96 percent 168 178 PERCENT\n",
      "Fortune 500 182 193 PRODUCT\n",
      "Wolverine 291 300 ORG\n",
      "one 648 651 CARDINAL\n",
      "100,000 percent 726 741 PERCENT\n",
      "every minute 754 766 TIME\n",
      "18 1003 1005 CARDINAL\n",
      "intel 1433 1438 ORG\n",
      "first 1941 1946 ORDINAL\n",
      "first 3368 3373 ORDINAL\n",
      "more than three seconds 3396 3419 TIME\n",
      "tonight 3652 3659 TIME\n",
      "SEXY 5415 5419 ORG\n",
      "Reese 5644 5649 NORP\n",
      "un 5710 5712 ORG\n"
     ]
    }
   ],
   "source": [
    "for ent in docs.ents:\n",
    "    print(ent.text, ent.start_char, ent.end_char, ent.label_)"
   ]
  },
  {
   "cell_type": "code",
   "execution_count": 80,
   "id": "3c9dfae3",
   "metadata": {},
   "outputs": [
    {
     "data": {
      "text/plain": [
       "pandas.core.frame.DataFrame"
      ]
     },
     "execution_count": 80,
     "metadata": {},
     "output_type": "execute_result"
    }
   ],
   "source": [
    "type(df_textonly)"
   ]
  },
  {
   "cell_type": "code",
   "execution_count": null,
   "id": "6777e723",
   "metadata": {},
   "outputs": [],
   "source": []
  }
 ],
 "metadata": {
  "kernelspec": {
   "display_name": "mensmag (venv)",
   "language": "python",
   "name": "mmvenv"
  },
  "language_info": {
   "codemirror_mode": {
    "name": "ipython",
    "version": 3
   },
   "file_extension": ".py",
   "mimetype": "text/x-python",
   "name": "python",
   "nbconvert_exporter": "python",
   "pygments_lexer": "ipython3",
   "version": "3.13.5"
  }
 },
 "nbformat": 4,
 "nbformat_minor": 5
}
