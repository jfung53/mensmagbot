{
 "cells": [
  {
   "cell_type": "code",
   "execution_count": null,
   "id": "0d7ab26b",
   "metadata": {},
   "outputs": [],
   "source": [
    "# figure out how to install this in a virtual environment\n",
    "pip install git+https://github.com/typemytype/drawbot"
   ]
  },
  {
   "cell_type": "code",
   "execution_count": null,
   "id": "cf12423b",
   "metadata": {},
   "outputs": [],
   "source": [
    "import drawBot as db\n",
    "from IPython.display import Image, display, IFrame"
   ]
  },
  {
   "cell_type": "code",
   "execution_count": null,
   "id": "e4a6134b",
   "metadata": {},
   "outputs": [],
   "source": [
    "output_png = \"test.png\"\n",
    "\n",
    "with db.drawing():    \n",
    "    db.size(512, 512)\n",
    "\n",
    "    db.font('AkzidenzGroteskPro-Bold')\n",
    "    db.fontSize(56)\n",
    "    db.fill(64/255)\n",
    "    db.stroke(1, 0, 0)\n",
    "    db.text('test?', (128, 256))\n",
    "    \n",
    "    db.fill(200/255)\n",
    "    db.text('test!', (16, 24))\n",
    "    db.saveImage(output_png, imageResolution=300)\n",
    "\n",
    "display(Image(output_png))"
   ]
  }
 ],
 "metadata": {
  "language_info": {
   "name": "python"
  }
 },
 "nbformat": 4,
 "nbformat_minor": 5
}
