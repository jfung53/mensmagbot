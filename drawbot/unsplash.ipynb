{
 "cells": [
  {
   "cell_type": "code",
   "execution_count": 1,
   "id": "dfb2ca75",
   "metadata": {},
   "outputs": [],
   "source": [
    "import requests\n",
    "import os\n",
    "from dotenv import load_dotenv\n",
    "import json\n",
    "import random"
   ]
  },
  {
   "cell_type": "code",
   "execution_count": 2,
   "id": "1b336950",
   "metadata": {},
   "outputs": [],
   "source": [
    "load_dotenv()\n",
    "ACCESS_KEY = os.getenv(\"ACCESS_KEY\")"
   ]
  },
  {
   "cell_type": "code",
   "execution_count": 3,
   "id": "08926ab4",
   "metadata": {},
   "outputs": [],
   "source": [
    "# define keyword search query\n",
    "SEARCH_QUERY = 'man in nature'"
   ]
  },
  {
   "cell_type": "code",
   "execution_count": 4,
   "id": "a3c1ed3a",
   "metadata": {},
   "outputs": [],
   "source": [
    "url = 'https://api.unsplash.com/photos/random'\n",
    "\n",
    "params = {\n",
    "    'query': SEARCH_QUERY,\n",
    "    'client_id': ACCESS_KEY,\n",
    "    'orientation': 'portrait', # optional. landscape, portrait, squarish\n",
    "    'dummy': random.randint(0, 999999) # supposed to break cache-like behaviour\n",
    "}"
   ]
  },
  {
   "cell_type": "code",
   "execution_count": 7,
   "id": "4bab45ff",
   "metadata": {},
   "outputs": [
    {
     "data": {
      "text/plain": [
       "<Response [200]>"
      ]
     },
     "execution_count": 7,
     "metadata": {},
     "output_type": "execute_result"
    }
   ],
   "source": [
    "response = requests.get(url, params=params)\n",
    "response"
   ]
  },
  {
   "cell_type": "code",
   "execution_count": 8,
   "id": "fe3572d8",
   "metadata": {},
   "outputs": [
    {
     "name": "stdout",
     "output_type": "stream",
     "text": [
      "Image downloaded\n",
      "Metadata saved\n"
     ]
    }
   ],
   "source": [
    "if response.status_code == 200:\n",
    "    data = response.json()\n",
    "\n",
    "    image_url = data['urls']['full']\n",
    "\n",
    "    # metadata for attribution\n",
    "    photographer_name = data['user']['name']\n",
    "    photographer_profile = data['user']['links']['html']\n",
    "    unsplash_link = data['links']['html']\n",
    "    photo_id = data['id']\n",
    "    filename = f\"{photo_id}.jpg\"\n",
    "    \n",
    "    # download image\n",
    "    image_response = requests.get(image_url)\n",
    "    if image_response.status_code == 200:\n",
    "        with open('random_unsplash_image.jpg', 'wb') as f:\n",
    "        # with open(filename, 'wb') as f:\n",
    "            f.write(image_response.content)\n",
    "        print(\"Image downloaded\")\n",
    "        # print(f\"Image downloaded: {filename}\")\n",
    "\n",
    "        metadata = {\n",
    "            \"photo_id\": photo_id,\n",
    "            \"photographer\": photographer_name,\n",
    "            \"photographer_profile\": photographer_profile,\n",
    "            \"unsplash_link\": unsplash_link,\n",
    "            \"filename\": filename\n",
    "        }\n",
    "\n",
    "        # save credits to json\n",
    "        json_path = \"credits.json\"\n",
    "        if os.path.exists(json_path):\n",
    "            with open(json_path, 'r', encoding='utf-8') as f:\n",
    "                credits = json.load(f)\n",
    "        else:\n",
    "            credits = []\n",
    "        \n",
    "        credits.append(metadata)\n",
    "        with open(json_path, 'w', encoding='utf-8') as f:\n",
    "            json.dump(credits, f, indent=2)\n",
    "        print(\"Metadata saved\")\n",
    "\n",
    "    else:\n",
    "        print(\"Download failed\")\n",
    "else:\n",
    "    print(\"Failed to fetch image from Unsplash\")"
   ]
  },
  {
   "cell_type": "code",
   "execution_count": null,
   "id": "7da0a23f",
   "metadata": {},
   "outputs": [],
   "source": []
  }
 ],
 "metadata": {
  "kernelspec": {
   "display_name": ".venv",
   "language": "python",
   "name": "python3"
  },
  "language_info": {
   "codemirror_mode": {
    "name": "ipython",
    "version": 3
   },
   "file_extension": ".py",
   "mimetype": "text/x-python",
   "name": "python",
   "nbconvert_exporter": "python",
   "pygments_lexer": "ipython3",
   "version": "3.13.5"
  }
 },
 "nbformat": 4,
 "nbformat_minor": 5
}
